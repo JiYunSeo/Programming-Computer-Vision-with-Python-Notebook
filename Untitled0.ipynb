{
  "nbformat": 4,
  "nbformat_minor": 0,
  "metadata": {
    "colab": {
      "name": "Untitled0.ipynb",
      "provenance": [],
      "collapsed_sections": [],
      "include_colab_link": true
    },
    "kernelspec": {
      "name": "python3",
      "display_name": "Python 3"
    },
    "accelerator": "TPU"
  },
  "cells": [
    {
      "cell_type": "markdown",
      "metadata": {
        "id": "view-in-github",
        "colab_type": "text"
      },
      "source": [
        "<a href=\"https://colab.research.google.com/github/JiYunSeo/Programming-Computer-Vision-with-Python-Notebook/blob/master/Untitled0.ipynb\" target=\"_parent\"><img src=\"https://colab.research.google.com/assets/colab-badge.svg\" alt=\"Open In Colab\"/></a>"
      ]
    },
    {
      "cell_type": "code",
      "metadata": {
        "id": "d7CSSEKjDGvh",
        "colab_type": "code",
        "colab": {}
      },
      "source": [
        "import tensorflow as tf"
      ],
      "execution_count": 0,
      "outputs": []
    },
    {
      "cell_type": "code",
      "metadata": {
        "id": "KxurxPieDgIT",
        "colab_type": "code",
        "colab": {}
      },
      "source": [
        "hello = tf.constant('hellow tensorflow!')"
      ],
      "execution_count": 0,
      "outputs": []
    },
    {
      "cell_type": "code",
      "metadata": {
        "id": "oiZ5DlLdD1J2",
        "colab_type": "code",
        "colab": {
          "base_uri": "https://localhost:8080/",
          "height": 35
        },
        "outputId": "195b87f8-b3ab-4df5-da16-4685a60f857f"
      },
      "source": [
        "print(hello)"
      ],
      "execution_count": 9,
      "outputs": [
        {
          "output_type": "stream",
          "text": [
            "Tensor(\"Const_1:0\", shape=(), dtype=string)\n"
          ],
          "name": "stdout"
        }
      ]
    },
    {
      "cell_type": "code",
      "metadata": {
        "id": "to4GxGwVD5-O",
        "colab_type": "code",
        "colab": {}
      },
      "source": [
        "sess = tf.Session()"
      ],
      "execution_count": 0,
      "outputs": []
    },
    {
      "cell_type": "code",
      "metadata": {
        "id": "WK21WR6xEYVa",
        "colab_type": "code",
        "colab": {
          "base_uri": "https://localhost:8080/",
          "height": 35
        },
        "outputId": "005996ed-8a72-4f78-a97f-b8fc76801634"
      },
      "source": [
        "sess.run(hello)"
      ],
      "execution_count": 14,
      "outputs": [
        {
          "output_type": "execute_result",
          "data": {
            "text/plain": [
              "b'hellow tensorflow!'"
            ]
          },
          "metadata": {
            "tags": []
          },
          "execution_count": 14
        }
      ]
    },
    {
      "cell_type": "code",
      "metadata": {
        "id": "vinSXmWMEk18",
        "colab_type": "code",
        "colab": {}
      },
      "source": [
        "a = tf.constant(5)"
      ],
      "execution_count": 0,
      "outputs": []
    },
    {
      "cell_type": "code",
      "metadata": {
        "id": "O57Opr7QFIAC",
        "colab_type": "code",
        "colab": {}
      },
      "source": [
        "b = tf.constant(7)"
      ],
      "execution_count": 0,
      "outputs": []
    },
    {
      "cell_type": "code",
      "metadata": {
        "id": "eOxRqf7RFNeB",
        "colab_type": "code",
        "colab": {}
      },
      "source": [
        "c = a+b"
      ],
      "execution_count": 0,
      "outputs": []
    },
    {
      "cell_type": "code",
      "metadata": {
        "id": "DmMiOkoNFWWu",
        "colab_type": "code",
        "colab": {}
      },
      "source": [
        "d = c*10"
      ],
      "execution_count": 0,
      "outputs": []
    },
    {
      "cell_type": "code",
      "metadata": {
        "id": "MdKNa3jFFZmV",
        "colab_type": "code",
        "colab": {}
      },
      "source": [
        "result = sess.run(d)"
      ],
      "execution_count": 0,
      "outputs": []
    },
    {
      "cell_type": "code",
      "metadata": {
        "id": "JZFkcNG-F_05",
        "colab_type": "code",
        "colab": {
          "base_uri": "https://localhost:8080/",
          "height": 35
        },
        "outputId": "21f5478c-e87b-4115-c7f2-df04f1dee8f8"
      },
      "source": [
        "print(result)"
      ],
      "execution_count": 28,
      "outputs": [
        {
          "output_type": "stream",
          "text": [
            "120\n"
          ],
          "name": "stdout"
        }
      ]
    },
    {
      "cell_type": "code",
      "metadata": {
        "id": "ofWxP9iVGfPH",
        "colab_type": "code",
        "colab": {}
      },
      "source": [
        "result = sess.run(c)"
      ],
      "execution_count": 0,
      "outputs": []
    },
    {
      "cell_type": "code",
      "metadata": {
        "id": "o8tUVG83Gn_U",
        "colab_type": "code",
        "colab": {
          "base_uri": "https://localhost:8080/",
          "height": 35
        },
        "outputId": "f089d4ac-84a5-4082-bbab-363f4c463d25"
      },
      "source": [
        "print(result)"
      ],
      "execution_count": 30,
      "outputs": [
        {
          "output_type": "stream",
          "text": [
            "12\n"
          ],
          "name": "stdout"
        }
      ]
    },
    {
      "cell_type": "code",
      "metadata": {
        "id": "yk9IwnkfGphQ",
        "colab_type": "code",
        "colab": {}
      },
      "source": [
        "x = tf.constant(1)"
      ],
      "execution_count": 0,
      "outputs": []
    },
    {
      "cell_type": "code",
      "metadata": {
        "id": "2PcODlFgIhz-",
        "colab_type": "code",
        "colab": {}
      },
      "source": [
        "y = tf.Variable(x+9)"
      ],
      "execution_count": 0,
      "outputs": []
    },
    {
      "cell_type": "code",
      "metadata": {
        "id": "HlDpkRD0Is9o",
        "colab_type": "code",
        "colab": {}
      },
      "source": [
        "init = tf.global_variables_initializer()"
      ],
      "execution_count": 0,
      "outputs": []
    },
    {
      "cell_type": "code",
      "metadata": {
        "id": "dPDR2IXsJGtl",
        "colab_type": "code",
        "colab": {}
      },
      "source": [
        "sess.run(init)"
      ],
      "execution_count": 0,
      "outputs": []
    },
    {
      "cell_type": "code",
      "metadata": {
        "id": "k3TNZJRpJNWZ",
        "colab_type": "code",
        "colab": {}
      },
      "source": [
        "result=sess.run(y)"
      ],
      "execution_count": 0,
      "outputs": []
    },
    {
      "cell_type": "code",
      "metadata": {
        "id": "thSBp3NWJbQy",
        "colab_type": "code",
        "colab": {
          "base_uri": "https://localhost:8080/",
          "height": 35
        },
        "outputId": "da88d716-b5bb-4524-d66f-1b0f3e3bafd7"
      },
      "source": [
        "print(result)"
      ],
      "execution_count": 46,
      "outputs": [
        {
          "output_type": "stream",
          "text": [
            "10\n"
          ],
          "name": "stdout"
        }
      ]
    },
    {
      "cell_type": "code",
      "metadata": {
        "id": "2f98MoX6JeDs",
        "colab_type": "code",
        "colab": {}
      },
      "source": [
        "\n",
        "input_data = [1,2,3,4,5]\n",
        "input_data2 = [3,5,7,9,11]\n"
      ],
      "execution_count": 0,
      "outputs": []
    },
    {
      "cell_type": "code",
      "metadata": {
        "id": "Clg4WduhJ1Xz",
        "colab_type": "code",
        "colab": {
          "base_uri": "https://localhost:8080/",
          "height": 35
        },
        "outputId": "cb270683-d502-45c2-9ff1-71eec2708d71"
      },
      "source": [
        "print(input_data)"
      ],
      "execution_count": 48,
      "outputs": [
        {
          "output_type": "stream",
          "text": [
            "[1, 2, 3, 4, 5]\n"
          ],
          "name": "stdout"
        }
      ]
    },
    {
      "cell_type": "code",
      "metadata": {
        "id": "ZJGe_AuaJ5gL",
        "colab_type": "code",
        "colab": {
          "base_uri": "https://localhost:8080/",
          "height": 35
        },
        "outputId": "11ff1e03-505f-4332-bfd2-6263980ac5c8"
      },
      "source": [
        "print(input_data2)"
      ],
      "execution_count": 49,
      "outputs": [
        {
          "output_type": "stream",
          "text": [
            "[3, 5, 7, 9, 11]\n"
          ],
          "name": "stdout"
        }
      ]
    },
    {
      "cell_type": "code",
      "metadata": {
        "id": "OxnnMVkZJ7kx",
        "colab_type": "code",
        "colab": {}
      },
      "source": [
        "x = tf.placeholder(dtype=tf.float32)"
      ],
      "execution_count": 0,
      "outputs": []
    },
    {
      "cell_type": "code",
      "metadata": {
        "id": "N39faBuCJ_AX",
        "colab_type": "code",
        "colab": {}
      },
      "source": [
        "y=x*2"
      ],
      "execution_count": 0,
      "outputs": []
    },
    {
      "cell_type": "code",
      "metadata": {
        "id": "9qdVjuG8KG-l",
        "colab_type": "code",
        "colab": {}
      },
      "source": [
        "result = sess.run(y, feed_dict={x:input_data})"
      ],
      "execution_count": 0,
      "outputs": []
    },
    {
      "cell_type": "code",
      "metadata": {
        "id": "mdCmJvA9KWv2",
        "colab_type": "code",
        "colab": {
          "base_uri": "https://localhost:8080/",
          "height": 35
        },
        "outputId": "e65093ce-8393-4e29-9081-74063d738d96"
      },
      "source": [
        "print(result)"
      ],
      "execution_count": 54,
      "outputs": [
        {
          "output_type": "stream",
          "text": [
            "[ 2.  4.  6.  8. 10.]\n"
          ],
          "name": "stdout"
        }
      ]
    },
    {
      "cell_type": "code",
      "metadata": {
        "id": "GoTKjHs4KxAl",
        "colab_type": "code",
        "colab": {}
      },
      "source": [
        "result = sess.run(y, feed_dict={x:input_data2})"
      ],
      "execution_count": 0,
      "outputs": []
    },
    {
      "cell_type": "code",
      "metadata": {
        "id": "C62y8yh3K8hA",
        "colab_type": "code",
        "colab": {
          "base_uri": "https://localhost:8080/",
          "height": 35
        },
        "outputId": "937fe663-5814-4b92-c994-0c0136b04ed6"
      },
      "source": [
        "print(result)"
      ],
      "execution_count": 57,
      "outputs": [
        {
          "output_type": "stream",
          "text": [
            "[ 6. 10. 14. 18. 22.]\n"
          ],
          "name": "stdout"
        }
      ]
    },
    {
      "cell_type": "code",
      "metadata": {
        "id": "Yz2D7j_sLApw",
        "colab_type": "code",
        "colab": {
          "base_uri": "https://localhost:8080/",
          "height": 90
        },
        "outputId": "00d10b5f-b952-4eea-bd8f-6e7e1bfff52d"
      },
      "source": [
        "x = tf.constant([ [1.0,2.0,3.0] ])        # 1x3 constant vector\n",
        "print('Form of the x vector:')\n",
        "print(x.get_shape())\n",
        "\n",
        "w = tf.constant([ [2.0],[2.0],[2.0] ])    # 3x1 constant vector\n",
        "print('Form of the w vector:')\n",
        "print(w.get_shape())\n",
        "\n",
        "y = tf.matmul(x,w)                        # Inner product of x and w vectors \n"
      ],
      "execution_count": 58,
      "outputs": [
        {
          "output_type": "stream",
          "text": [
            "Form of the x vector:\n",
            "(1, 3)\n",
            "Form of the w vector:\n",
            "(3, 1)\n"
          ],
          "name": "stdout"
        }
      ]
    },
    {
      "cell_type": "code",
      "metadata": {
        "id": "-GViSe0WQxky",
        "colab_type": "code",
        "colab": {
          "base_uri": "https://localhost:8080/",
          "height": 54
        },
        "outputId": "916142ca-7bc7-4207-ac16-47f33810f857"
      },
      "source": [
        "sess = tf.Session()\n",
        "init = tf.global_variables_initializer()      #initializing the variables\n",
        "sess.run(init)\n",
        "result = sess.run(y)\n",
        "\n",
        "print('The multiplication of x and w vectors:')\n",
        "print(result)"
      ],
      "execution_count": 59,
      "outputs": [
        {
          "output_type": "stream",
          "text": [
            "The multiplication of x and w vectors:\n",
            "[[12.]]\n"
          ],
          "name": "stdout"
        }
      ]
    },
    {
      "cell_type": "code",
      "metadata": {
        "id": "DP9winSlQ7yk",
        "colab_type": "code",
        "colab": {
          "base_uri": "https://localhost:8080/",
          "height": 72
        },
        "outputId": "6116de49-1de5-486d-965e-001fc35220fe"
      },
      "source": [
        "input_data = [ [1.,2.,3.],[1.,2.,3.],[2.,3.,4.] ] #3x3 matrix\n",
        "x = tf.placeholder(dtype=tf.float32,shape=[None,3])\n",
        "w = tf.Variable([ [2.],[2.],[2.] ], dtype = tf.float32) #3x1 matrix\n",
        "y = tf.matmul(x,w)\n",
        "\n",
        "sess = tf.Session()\n",
        "\n",
        "init =  tf.global_variables_initializer()  #Initializing the variable\n",
        "sess.run(init)\n",
        "\n",
        "result = sess.run(y,feed_dict={x:input_data})\n",
        "\n",
        "print (result)"
      ],
      "execution_count": 60,
      "outputs": [
        {
          "output_type": "stream",
          "text": [
            "[[12.]\n",
            " [12.]\n",
            " [18.]]\n"
          ],
          "name": "stdout"
        }
      ]
    },
    {
      "cell_type": "code",
      "metadata": {
        "id": "euN_piVmRb1k",
        "colab_type": "code",
        "colab": {
          "base_uri": "https://localhost:8080/",
          "height": 72
        },
        "outputId": "c14282bc-0605-4e60-e9aa-0fd182a5f9f2"
      },
      "source": [
        "input_data1 = [ [1.,2.,3.],[1.,2.,3.],[2.,3.,4.] ] #3x3 matrix\n",
        "input_data2 = [[1.,2.,3.]] #1x3 matrix\n",
        "x = tf.placeholder(dtype=tf.float32,shape=[None,3])\n",
        "w = tf.Variable([ [2.],[2.],[2.] ], dtype = tf.float32) #3x1 matrix\n",
        "y = tf.matmul(x,w)\n",
        "\n",
        "sess = tf.Session()\n",
        "\n",
        "init =  tf.global_variables_initializer()  # Initialize the variables\n",
        "sess.run(init)\n",
        "\n",
        "result1 = sess.run(y,feed_dict={x:input_data1})  # feed a 3x3 matrix\n",
        "print (result1)\n",
        "\n"
      ],
      "execution_count": 62,
      "outputs": [
        {
          "output_type": "stream",
          "text": [
            "[[12.]\n",
            " [12.]\n",
            " [18.]]\n"
          ],
          "name": "stdout"
        }
      ]
    },
    {
      "cell_type": "code",
      "metadata": {
        "id": "OymYwf_gRPCy",
        "colab_type": "code",
        "colab": {
          "base_uri": "https://localhost:8080/",
          "height": 35
        },
        "outputId": "cf7d462e-d290-4ea8-e759-3b7ad3371252"
      },
      "source": [
        "result2 = sess.run(y,feed_dict={x:input_data2}) # feed a 3x1 matrix\n",
        "print(result2)"
      ],
      "execution_count": 63,
      "outputs": [
        {
          "output_type": "stream",
          "text": [
            "[[12.]]\n"
          ],
          "name": "stdout"
        }
      ]
    },
    {
      "cell_type": "code",
      "metadata": {
        "id": "xTE7zab7RyXk",
        "colab_type": "code",
        "colab": {}
      },
      "source": [
        "import numpy as np\n",
        "x_data = np.float32(np.random.rand(1,100))"
      ],
      "execution_count": 0,
      "outputs": []
    },
    {
      "cell_type": "code",
      "metadata": {
        "id": "2BoMu2r6USBm",
        "colab_type": "code",
        "colab": {
          "base_uri": "https://localhost:8080/",
          "height": 326
        },
        "outputId": "72527c8e-6fe9-4b14-ac0d-544c3d448752"
      },
      "source": [
        "print(x_data)"
      ],
      "execution_count": 72,
      "outputs": [
        {
          "output_type": "stream",
          "text": [
            "[[0.10857978 0.20953026 0.25640166 0.24744138 0.94493765 0.7531693\n",
            "  0.65863883 0.10092844 0.71453243 0.21865828 0.7703857  0.83470714\n",
            "  0.08521923 0.8409285  0.38399097 0.11251891 0.18622229 0.6589655\n",
            "  0.20804466 0.43951902 0.67154485 0.45028153 0.02659761 0.48351276\n",
            "  0.28948763 0.9379465  0.39792404 0.66257024 0.13729244 0.3669734\n",
            "  0.45897654 0.24625337 0.9843566  0.66370565 0.8092723  0.99173856\n",
            "  0.32111692 0.7412098  0.59763813 0.9437263  0.5251512  0.02334896\n",
            "  0.69859487 0.9525754  0.6750421  0.38661963 0.8737324  0.38922906\n",
            "  0.67490757 0.09528646 0.9754678  0.17711997 0.98314095 0.7640353\n",
            "  0.27047473 0.57735115 0.24565981 0.02737318 0.7556998  0.94815576\n",
            "  0.88156486 0.93853945 0.11649839 0.78877896 0.20809963 0.40517557\n",
            "  0.7360748  0.68687546 0.8694802  0.23074903 0.83489907 0.57366747\n",
            "  0.8789272  0.10640766 0.6888229  0.08545356 0.12652904 0.43460017\n",
            "  0.97718    0.64877445 0.312376   0.4343383  0.5205443  0.66295856\n",
            "  0.28848144 0.24753435 0.7347006  0.7462298  0.30457154 0.6104753\n",
            "  0.62718326 0.7603929  0.12692346 0.42679474 0.64870906 0.84144324\n",
            "  0.29802537 0.16574498 0.35210037 0.30443248]]\n"
          ],
          "name": "stdout"
        }
      ]
    },
    {
      "cell_type": "code",
      "metadata": {
        "id": "5bR7_eQIU0W4",
        "colab_type": "code",
        "colab": {}
      },
      "source": [
        "y_data= np.dot([0.200], x_data)+0.300"
      ],
      "execution_count": 0,
      "outputs": []
    },
    {
      "cell_type": "code",
      "metadata": {
        "id": "dPqpZ2jaVhI8",
        "colab_type": "code",
        "colab": {
          "base_uri": "https://localhost:8080/",
          "height": 326
        },
        "outputId": "64398857-858d-430c-ed85-0cef42fc236c"
      },
      "source": [
        "print(y_data)"
      ],
      "execution_count": 75,
      "outputs": [
        {
          "output_type": "stream",
          "text": [
            "[0.32171596 0.34190605 0.35128033 0.34948828 0.48898753 0.45063386\n",
            " 0.43172777 0.32018569 0.44290649 0.34373166 0.45407714 0.46694143\n",
            " 0.31704385 0.4681857  0.37679819 0.32250378 0.33724446 0.43179311\n",
            " 0.34160893 0.3879038  0.43430897 0.39005631 0.30531952 0.39670255\n",
            " 0.35789753 0.4875893  0.37958481 0.43251405 0.32745849 0.37339468\n",
            " 0.39179531 0.34925067 0.49687132 0.43274113 0.46185446 0.49834771\n",
            " 0.36422338 0.44824196 0.41952763 0.48874526 0.40503024 0.30466979\n",
            " 0.43971897 0.49051508 0.43500842 0.37732393 0.47474648 0.37784581\n",
            " 0.43498151 0.31905729 0.49509356 0.33542399 0.49662819 0.45280706\n",
            " 0.35409495 0.41547023 0.34913196 0.30547464 0.45113996 0.48963115\n",
            " 0.47631297 0.48770789 0.32329968 0.45775579 0.34161993 0.38103511\n",
            " 0.44721496 0.43737509 0.47389604 0.34614981 0.46697981 0.41473349\n",
            " 0.47578543 0.32128153 0.43776459 0.31709071 0.32530581 0.38692003\n",
            " 0.495436   0.42975489 0.3624752  0.38686766 0.40410886 0.43259171\n",
            " 0.35769629 0.34950687 0.44694012 0.44924597 0.36091431 0.42209506\n",
            " 0.42543665 0.45207858 0.32538469 0.38535895 0.42974181 0.46828865\n",
            " 0.35960507 0.333149   0.37042007 0.3608865 ]\n"
          ],
          "name": "stdout"
        }
      ]
    },
    {
      "cell_type": "code",
      "metadata": {
        "id": "1yVXXX41VkG3",
        "colab_type": "code",
        "colab": {}
      },
      "source": [
        "b = tf.Variable(tf.zeros([1]))\n",
        "                \n",
        "W = tf.Variable(tf.random_uniform([1,1], -1.0, 1.0))\n",
        "\n",
        "y = tf.matmul(W, x_data)+b                "
      ],
      "execution_count": 0,
      "outputs": []
    },
    {
      "cell_type": "code",
      "metadata": {
        "id": "SdCeppw0XWTU",
        "colab_type": "code",
        "colab": {}
      },
      "source": [
        "loss = tf.reduce_mean(tf.square(y-y_data))"
      ],
      "execution_count": 0,
      "outputs": []
    },
    {
      "cell_type": "code",
      "metadata": {
        "id": "5-7AaRFHX9-i",
        "colab_type": "code",
        "colab": {}
      },
      "source": [
        "optimizer = tf.train.GradientDescentOptimizer(0.5)"
      ],
      "execution_count": 0,
      "outputs": []
    },
    {
      "cell_type": "code",
      "metadata": {
        "id": "UamC7RqDYQ-H",
        "colab_type": "code",
        "colab": {}
      },
      "source": [
        "train = optimizer.minimize(loss)"
      ],
      "execution_count": 0,
      "outputs": []
    },
    {
      "cell_type": "code",
      "metadata": {
        "id": "MDWUzcQ3ZslF",
        "colab_type": "code",
        "colab": {}
      },
      "source": [
        "init =  tf.global_variables_initializer()  # Initialize the variables\n",
        "sess.run(init)"
      ],
      "execution_count": 0,
      "outputs": []
    },
    {
      "cell_type": "code",
      "metadata": {
        "id": "cXql9jFDaDVq",
        "colab_type": "code",
        "colab": {
          "base_uri": "https://localhost:8080/",
          "height": 35
        },
        "outputId": "88f3c210-298a-4437-a6b5-ba8e05267a13"
      },
      "source": [
        "for step in range(200):\n",
        "  sess.run(train)\n",
        "  if step % 200 == 0:\n",
        "   print (step, sess.run(W), sess.run(b))\n",
        "  \n"
      ],
      "execution_count": 100,
      "outputs": [
        {
          "output_type": "stream",
          "text": [
            "0 [[-0.5218138]] [0.6206304]\n"
          ],
          "name": "stdout"
        }
      ]
    },
    {
      "cell_type": "code",
      "metadata": {
        "id": "m07jQPT7abT7",
        "colab_type": "code",
        "colab": {}
      },
      "source": [
        ""
      ],
      "execution_count": 0,
      "outputs": []
    }
  ]
}